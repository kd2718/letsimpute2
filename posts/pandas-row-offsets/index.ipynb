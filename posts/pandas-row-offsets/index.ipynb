{
 "cells": [
  {
   "cell_type": "markdown",
   "metadata": {},
   "source": [
    "## Intro\n",
    "\n",
    "My friend is learning how to program with pandas. Durring the pandemic, he runs classes online and the output is in and out times for the students. Some have connection issues that make them clock in and out a lot, but they are still in class most of the time. Other students skip class altogether. Can we use pandas to figure out how long each student was in class?\n"
   ]
  },
  {
   "cell_type": "code",
   "execution_count": 2,
   "metadata": {},
   "outputs": [],
   "source": [
    "import pandas as pd\n",
    "import numpy as np"
   ]
  },
  {
   "source": [
    "## Setup\n",
    "First we are going to generate the data. If you are just learning pandas and what I am doing below looks a little intence, don't worry about it. Basically, we are creating 4 students with random in/out times. Then we shuffle the order so that the times and IDS need to be sorted later."
   ],
   "cell_type": "markdown",
   "metadata": {}
  },
  {
   "cell_type": "code",
   "execution_count": 3,
   "metadata": {},
   "outputs": [],
   "source": [
    "student_log = pd.DataFrame(columns=['student_id', 'timestamp'])\n",
    "\n",
    "for i in range(4):\n",
    "    num_pairs = np.random.randint(low=1, high=6)*2\n",
    "    inout = np.arange(num_pairs, dtype=np.float)\n",
    "    inout += np.random.uniform(0,30,num_pairs)\n",
    "    inout.sort()\n",
    "    student_log = student_log.append(pd.DataFrame({'student_id': i, 'timestamp': inout}), ignore_index=True)\n",
    "\n",
    "student_log = student_log.sample(frac=1.0).reset_index(drop=True)"
   ]
  },
  {
   "source": [
    "<!-- TEASER_END -->"
   ],
   "cell_type": "markdown",
   "metadata": {}
  },
  {
   "cell_type": "code",
   "execution_count": 4,
   "metadata": {},
   "outputs": [
    {
     "output_type": "execute_result",
     "data": {
      "text/plain": [
       "   student_id  timestamp\n",
       "0           1  26.707855\n",
       "1           2  17.490896\n",
       "2           2   7.517338\n",
       "3           0   9.278458\n",
       "4           0  11.517678\n",
       "5           0   1.804287\n",
       "6           0  29.014598\n",
       "7           1  23.594506\n",
       "8           0   1.801327\n",
       "9           0  13.595199\n",
       "10          2   8.419194\n",
       "11          3  27.708571\n",
       "12          2  20.950225\n",
       "13          0  20.954802\n",
       "14          3  26.412066\n",
       "15          2  21.743201\n",
       "16          2  12.209184\n",
       "17          0  12.619402\n",
       "18          2  34.962153\n",
       "19          2   3.247662\n",
       "20          3   7.044671\n",
       "21          3   8.252543"
      ],
      "text/html": "<div>\n<style scoped>\n    .dataframe tbody tr th:only-of-type {\n        vertical-align: middle;\n    }\n\n    .dataframe tbody tr th {\n        vertical-align: top;\n    }\n\n    .dataframe thead th {\n        text-align: right;\n    }\n</style>\n<table border=\"1\" class=\"dataframe\">\n  <thead>\n    <tr style=\"text-align: right;\">\n      <th></th>\n      <th>student_id</th>\n      <th>timestamp</th>\n    </tr>\n  </thead>\n  <tbody>\n    <tr>\n      <th>0</th>\n      <td>1</td>\n      <td>26.707855</td>\n    </tr>\n    <tr>\n      <th>1</th>\n      <td>2</td>\n      <td>17.490896</td>\n    </tr>\n    <tr>\n      <th>2</th>\n      <td>2</td>\n      <td>7.517338</td>\n    </tr>\n    <tr>\n      <th>3</th>\n      <td>0</td>\n      <td>9.278458</td>\n    </tr>\n    <tr>\n      <th>4</th>\n      <td>0</td>\n      <td>11.517678</td>\n    </tr>\n    <tr>\n      <th>5</th>\n      <td>0</td>\n      <td>1.804287</td>\n    </tr>\n    <tr>\n      <th>6</th>\n      <td>0</td>\n      <td>29.014598</td>\n    </tr>\n    <tr>\n      <th>7</th>\n      <td>1</td>\n      <td>23.594506</td>\n    </tr>\n    <tr>\n      <th>8</th>\n      <td>0</td>\n      <td>1.801327</td>\n    </tr>\n    <tr>\n      <th>9</th>\n      <td>0</td>\n      <td>13.595199</td>\n    </tr>\n    <tr>\n      <th>10</th>\n      <td>2</td>\n      <td>8.419194</td>\n    </tr>\n    <tr>\n      <th>11</th>\n      <td>3</td>\n      <td>27.708571</td>\n    </tr>\n    <tr>\n      <th>12</th>\n      <td>2</td>\n      <td>20.950225</td>\n    </tr>\n    <tr>\n      <th>13</th>\n      <td>0</td>\n      <td>20.954802</td>\n    </tr>\n    <tr>\n      <th>14</th>\n      <td>3</td>\n      <td>26.412066</td>\n    </tr>\n    <tr>\n      <th>15</th>\n      <td>2</td>\n      <td>21.743201</td>\n    </tr>\n    <tr>\n      <th>16</th>\n      <td>2</td>\n      <td>12.209184</td>\n    </tr>\n    <tr>\n      <th>17</th>\n      <td>0</td>\n      <td>12.619402</td>\n    </tr>\n    <tr>\n      <th>18</th>\n      <td>2</td>\n      <td>34.962153</td>\n    </tr>\n    <tr>\n      <th>19</th>\n      <td>2</td>\n      <td>3.247662</td>\n    </tr>\n    <tr>\n      <th>20</th>\n      <td>3</td>\n      <td>7.044671</td>\n    </tr>\n    <tr>\n      <th>21</th>\n      <td>3</td>\n      <td>8.252543</td>\n    </tr>\n  </tbody>\n</table>\n</div>"
     },
     "metadata": {},
     "execution_count": 4
    }
   ],
   "source": [
    "student_log"
   ]
  },
  {
   "source": [
    "## Data Clean\n",
    "\n",
    "Now that we have the data, we should get it in the proper order. I am going to sort by `student_id` then by `timestamp`. Then we can calcualte how long each student was in class."
   ],
   "cell_type": "markdown",
   "metadata": {}
  },
  {
   "cell_type": "code",
   "execution_count": 5,
   "metadata": {},
   "outputs": [
    {
     "output_type": "execute_result",
     "data": {
      "text/plain": [
       "   student_id  timestamp\n",
       "8           0   1.801327\n",
       "5           0   1.804287\n",
       "3           0   9.278458\n",
       "4           0  11.517678\n",
       "17          0  12.619402\n",
       "9           0  13.595199\n",
       "13          0  20.954802\n",
       "6           0  29.014598\n",
       "7           1  23.594506\n",
       "0           1  26.707855\n",
       "19          2   3.247662\n",
       "2           2   7.517338\n",
       "10          2   8.419194\n",
       "16          2  12.209184\n",
       "1           2  17.490896\n",
       "12          2  20.950225\n",
       "15          2  21.743201\n",
       "18          2  34.962153\n",
       "20          3   7.044671\n",
       "21          3   8.252543\n",
       "14          3  26.412066\n",
       "11          3  27.708571"
      ],
      "text/html": "<div>\n<style scoped>\n    .dataframe tbody tr th:only-of-type {\n        vertical-align: middle;\n    }\n\n    .dataframe tbody tr th {\n        vertical-align: top;\n    }\n\n    .dataframe thead th {\n        text-align: right;\n    }\n</style>\n<table border=\"1\" class=\"dataframe\">\n  <thead>\n    <tr style=\"text-align: right;\">\n      <th></th>\n      <th>student_id</th>\n      <th>timestamp</th>\n    </tr>\n  </thead>\n  <tbody>\n    <tr>\n      <th>8</th>\n      <td>0</td>\n      <td>1.801327</td>\n    </tr>\n    <tr>\n      <th>5</th>\n      <td>0</td>\n      <td>1.804287</td>\n    </tr>\n    <tr>\n      <th>3</th>\n      <td>0</td>\n      <td>9.278458</td>\n    </tr>\n    <tr>\n      <th>4</th>\n      <td>0</td>\n      <td>11.517678</td>\n    </tr>\n    <tr>\n      <th>17</th>\n      <td>0</td>\n      <td>12.619402</td>\n    </tr>\n    <tr>\n      <th>9</th>\n      <td>0</td>\n      <td>13.595199</td>\n    </tr>\n    <tr>\n      <th>13</th>\n      <td>0</td>\n      <td>20.954802</td>\n    </tr>\n    <tr>\n      <th>6</th>\n      <td>0</td>\n      <td>29.014598</td>\n    </tr>\n    <tr>\n      <th>7</th>\n      <td>1</td>\n      <td>23.594506</td>\n    </tr>\n    <tr>\n      <th>0</th>\n      <td>1</td>\n      <td>26.707855</td>\n    </tr>\n    <tr>\n      <th>19</th>\n      <td>2</td>\n      <td>3.247662</td>\n    </tr>\n    <tr>\n      <th>2</th>\n      <td>2</td>\n      <td>7.517338</td>\n    </tr>\n    <tr>\n      <th>10</th>\n      <td>2</td>\n      <td>8.419194</td>\n    </tr>\n    <tr>\n      <th>16</th>\n      <td>2</td>\n      <td>12.209184</td>\n    </tr>\n    <tr>\n      <th>1</th>\n      <td>2</td>\n      <td>17.490896</td>\n    </tr>\n    <tr>\n      <th>12</th>\n      <td>2</td>\n      <td>20.950225</td>\n    </tr>\n    <tr>\n      <th>15</th>\n      <td>2</td>\n      <td>21.743201</td>\n    </tr>\n    <tr>\n      <th>18</th>\n      <td>2</td>\n      <td>34.962153</td>\n    </tr>\n    <tr>\n      <th>20</th>\n      <td>3</td>\n      <td>7.044671</td>\n    </tr>\n    <tr>\n      <th>21</th>\n      <td>3</td>\n      <td>8.252543</td>\n    </tr>\n    <tr>\n      <th>14</th>\n      <td>3</td>\n      <td>26.412066</td>\n    </tr>\n    <tr>\n      <th>11</th>\n      <td>3</td>\n      <td>27.708571</td>\n    </tr>\n  </tbody>\n</table>\n</div>"
     },
     "metadata": {},
     "execution_count": 5
    }
   ],
   "source": [
    "student_log = student_log.sort_values(['student_id', 'timestamp'])\n",
    "student_log"
   ]
  },
  {
   "source": [
    "The index is out of order, but that is OK. You can reset the index if needed but we are going to ignore it for now."
   ],
   "cell_type": "markdown",
   "metadata": {}
  },
  {
   "source": [
    "## Aggrigate the data\n",
    "\n",
    "Now we can see how to figure out how long each student was in class for. We need to diff the rows so that we find out how long each student was clocked in for each session."
   ],
   "cell_type": "markdown",
   "metadata": {}
  },
  {
   "cell_type": "code",
   "execution_count": 6,
   "metadata": {},
   "outputs": [
    {
     "output_type": "execute_result",
     "data": {
      "text/plain": [
       "   student_id  timestamp\n",
       "8         NaN        NaN\n",
       "5           0   0.002960\n",
       "3           0   7.474172\n",
       "4           0   2.239220\n",
       "17          0   1.101724\n",
       "9           0   0.975797\n",
       "13          0   7.359603\n",
       "6           0   8.059797\n",
       "7           1  -5.420092\n",
       "0           0   3.113348"
      ],
      "text/html": "<div>\n<style scoped>\n    .dataframe tbody tr th:only-of-type {\n        vertical-align: middle;\n    }\n\n    .dataframe tbody tr th {\n        vertical-align: top;\n    }\n\n    .dataframe thead th {\n        text-align: right;\n    }\n</style>\n<table border=\"1\" class=\"dataframe\">\n  <thead>\n    <tr style=\"text-align: right;\">\n      <th></th>\n      <th>student_id</th>\n      <th>timestamp</th>\n    </tr>\n  </thead>\n  <tbody>\n    <tr>\n      <th>8</th>\n      <td>NaN</td>\n      <td>NaN</td>\n    </tr>\n    <tr>\n      <th>5</th>\n      <td>0</td>\n      <td>0.002960</td>\n    </tr>\n    <tr>\n      <th>3</th>\n      <td>0</td>\n      <td>7.474172</td>\n    </tr>\n    <tr>\n      <th>4</th>\n      <td>0</td>\n      <td>2.239220</td>\n    </tr>\n    <tr>\n      <th>17</th>\n      <td>0</td>\n      <td>1.101724</td>\n    </tr>\n    <tr>\n      <th>9</th>\n      <td>0</td>\n      <td>0.975797</td>\n    </tr>\n    <tr>\n      <th>13</th>\n      <td>0</td>\n      <td>7.359603</td>\n    </tr>\n    <tr>\n      <th>6</th>\n      <td>0</td>\n      <td>8.059797</td>\n    </tr>\n    <tr>\n      <th>7</th>\n      <td>1</td>\n      <td>-5.420092</td>\n    </tr>\n    <tr>\n      <th>0</th>\n      <td>0</td>\n      <td>3.113348</td>\n    </tr>\n  </tbody>\n</table>\n</div>"
     },
     "metadata": {},
     "execution_count": 6
    }
   ],
   "source": [
    "student_log.diff().head(10)"
   ]
  },
  {
   "source": [
    "Oops, we have a big jump when we switch students. We don't really want to do this, nor do we want to diff the student ID."
   ],
   "cell_type": "markdown",
   "metadata": {}
  },
  {
   "cell_type": "code",
   "execution_count": 7,
   "metadata": {},
   "outputs": [
    {
     "output_type": "execute_result",
     "data": {
      "text/plain": [
       "             timestamp       diff\n",
       "student_id                       \n",
       "0           100.585752  27.213271\n",
       "1            50.302361   3.113348\n",
       "2           126.539852  31.714492\n",
       "3            69.417850  20.663900"
      ],
      "text/html": "<div>\n<style scoped>\n    .dataframe tbody tr th:only-of-type {\n        vertical-align: middle;\n    }\n\n    .dataframe tbody tr th {\n        vertical-align: top;\n    }\n\n    .dataframe thead th {\n        text-align: right;\n    }\n</style>\n<table border=\"1\" class=\"dataframe\">\n  <thead>\n    <tr style=\"text-align: right;\">\n      <th></th>\n      <th>timestamp</th>\n      <th>diff</th>\n    </tr>\n    <tr>\n      <th>student_id</th>\n      <th></th>\n      <th></th>\n    </tr>\n  </thead>\n  <tbody>\n    <tr>\n      <th>0</th>\n      <td>100.585752</td>\n      <td>27.213271</td>\n    </tr>\n    <tr>\n      <th>1</th>\n      <td>50.302361</td>\n      <td>3.113348</td>\n    </tr>\n    <tr>\n      <th>2</th>\n      <td>126.539852</td>\n      <td>31.714492</td>\n    </tr>\n    <tr>\n      <th>3</th>\n      <td>69.417850</td>\n      <td>20.663900</td>\n    </tr>\n  </tbody>\n</table>\n</div>"
     },
     "metadata": {},
     "execution_count": 7
    }
   ],
   "source": [
    "student_log['diff'] = student_log.groupby('student_id').diff(periods=1)\n",
    "student_log.groupby('student_id').sum('diff')"
   ]
  },
  {
   "cell_type": "code",
   "execution_count": 8,
   "metadata": {},
   "outputs": [
    {
     "output_type": "execute_result",
     "data": {
      "text/plain": [
       "student_id\n",
       "0    27.213271\n",
       "1     3.113348\n",
       "2    31.714492\n",
       "3    20.663900\n",
       "Name: diff, dtype: float64"
      ]
     },
     "metadata": {},
     "execution_count": 8
    }
   ],
   "source": [
    "# or simply\n",
    "student_log.groupby('student_id').sum('diff')['diff']"
   ]
  },
  {
   "source": [
    "## Conclusion\n",
    "\n",
    "This gives the results we want. We can see who was in class for how long. I have made some assumptions here. That there are always in/out pairs and that there are no double in records caused by funny networking issues. In a future post I might think about addressing these other issues.\n",
    "\n",
    "### Summary\n",
    "we have used pandas functions to calculate how many minutes each student was in class. We can now see who we should mark as absent. Thanks for reading and let me know if you have any comments!"
   ],
   "cell_type": "markdown",
   "metadata": {}
  }
 ],
 "metadata": {
  "kernelspec": {
   "display_name": "Python 3",
   "env": {},
   "interrupt_mode": "signal",
   "language": "python",
   "name": "python3"
  },
  "nikola": {
   "category": "pandas",
   "date": "2021-01-11 21:29:37 UTC-08:00",
   "description": "",
   "link": "",
   "slug": "pandas-row-offsets",
   "tags": "pandas, python",
   "title": "Pandas Row Offsets",
   "type": "text"
  }
 },
 "nbformat": 4,
 "nbformat_minor": 4
}
