{
 "cells": [
  {
   "cell_type": "markdown",
   "metadata": {},
   "source": [
    "## Intro\n",
    "\n",
    "My friend is learning how to program with pandas. Durring the pandemic, he runs classes online and the output is in and out times for the students. Some have connection issues that make them clock in and out a lot, but they are still in class most of the time. Other students skip class altogether. Can we use pandas to figure out how long each student was in class?\n"
   ]
  },
  {
   "cell_type": "code",
   "execution_count": 1,
   "metadata": {},
   "outputs": [],
   "source": [
    "import pandas as pd\n",
    "import numpy as np"
   ]
  },
  {
   "source": [
    "## Setup\n",
    "First we are going to generate the data. If you are just learning pandas and what I am doing below looks a little intence, don't worry about it. Basically, we are creating 4 students with random in/out times. Then we shuffle the order so that the times and IDS need to be sorted later."
   ],
   "cell_type": "markdown",
   "metadata": {}
  },
  {
   "cell_type": "code",
   "execution_count": 37,
   "metadata": {},
   "outputs": [],
   "source": [
    "student_log = pd.DataFrame(columns=['student_id', 'timestamp'])\n",
    "\n",
    "for i in range(4):\n",
    "    num_pairs = np.random.randint(low=1, high=6)*2\n",
    "    inout = np.arange(num_pairs, dtype=np.float)\n",
    "    inout += np.random.uniform(0,30,num_pairs)\n",
    "    inout.sort()\n",
    "    student_log = student_log.append(pd.DataFrame({'student_id': i, 'timestamp': inout}), ignore_index=True)\n",
    "\n",
    "student_log = student_log.sample(frac=1.0).reset_index(drop=True)"
   ]
  },
  {
   "cell_type": "code",
   "execution_count": 38,
   "metadata": {},
   "outputs": [
    {
     "output_type": "execute_result",
     "data": {
      "text/plain": [
       "   student_id  timestamp\n",
       "0           2  20.302406\n",
       "1           1  10.067449\n",
       "2           2  24.856066\n",
       "3           3  21.860119\n",
       "4           0  20.329282\n",
       "5           1  27.197078\n",
       "6           1  10.765858\n",
       "7           1  17.504872\n",
       "8           2  25.197883\n",
       "9           1  11.399453\n",
       "10          1   9.715836\n",
       "11          3   8.328094\n",
       "12          3  20.465719\n",
       "13          1  13.187127\n",
       "14          2  32.548229\n",
       "15          0   9.946995\n",
       "16          0   3.655195\n",
       "17          1  25.442746\n",
       "18          2  22.049181\n",
       "19          3  36.654638\n",
       "20          0   9.405293\n",
       "21          0  10.825147\n",
       "22          3  20.221820\n",
       "23          3  14.829224\n",
       "24          3  19.005137\n",
       "25          0   8.933129\n",
       "26          2  11.011974\n",
       "27          2   5.079274\n",
       "28          2  28.597412\n",
       "29          3   3.990935"
      ],
      "text/html": "<div>\n<style scoped>\n    .dataframe tbody tr th:only-of-type {\n        vertical-align: middle;\n    }\n\n    .dataframe tbody tr th {\n        vertical-align: top;\n    }\n\n    .dataframe thead th {\n        text-align: right;\n    }\n</style>\n<table border=\"1\" class=\"dataframe\">\n  <thead>\n    <tr style=\"text-align: right;\">\n      <th></th>\n      <th>student_id</th>\n      <th>timestamp</th>\n    </tr>\n  </thead>\n  <tbody>\n    <tr>\n      <th>0</th>\n      <td>2</td>\n      <td>20.302406</td>\n    </tr>\n    <tr>\n      <th>1</th>\n      <td>1</td>\n      <td>10.067449</td>\n    </tr>\n    <tr>\n      <th>2</th>\n      <td>2</td>\n      <td>24.856066</td>\n    </tr>\n    <tr>\n      <th>3</th>\n      <td>3</td>\n      <td>21.860119</td>\n    </tr>\n    <tr>\n      <th>4</th>\n      <td>0</td>\n      <td>20.329282</td>\n    </tr>\n    <tr>\n      <th>5</th>\n      <td>1</td>\n      <td>27.197078</td>\n    </tr>\n    <tr>\n      <th>6</th>\n      <td>1</td>\n      <td>10.765858</td>\n    </tr>\n    <tr>\n      <th>7</th>\n      <td>1</td>\n      <td>17.504872</td>\n    </tr>\n    <tr>\n      <th>8</th>\n      <td>2</td>\n      <td>25.197883</td>\n    </tr>\n    <tr>\n      <th>9</th>\n      <td>1</td>\n      <td>11.399453</td>\n    </tr>\n    <tr>\n      <th>10</th>\n      <td>1</td>\n      <td>9.715836</td>\n    </tr>\n    <tr>\n      <th>11</th>\n      <td>3</td>\n      <td>8.328094</td>\n    </tr>\n    <tr>\n      <th>12</th>\n      <td>3</td>\n      <td>20.465719</td>\n    </tr>\n    <tr>\n      <th>13</th>\n      <td>1</td>\n      <td>13.187127</td>\n    </tr>\n    <tr>\n      <th>14</th>\n      <td>2</td>\n      <td>32.548229</td>\n    </tr>\n    <tr>\n      <th>15</th>\n      <td>0</td>\n      <td>9.946995</td>\n    </tr>\n    <tr>\n      <th>16</th>\n      <td>0</td>\n      <td>3.655195</td>\n    </tr>\n    <tr>\n      <th>17</th>\n      <td>1</td>\n      <td>25.442746</td>\n    </tr>\n    <tr>\n      <th>18</th>\n      <td>2</td>\n      <td>22.049181</td>\n    </tr>\n    <tr>\n      <th>19</th>\n      <td>3</td>\n      <td>36.654638</td>\n    </tr>\n    <tr>\n      <th>20</th>\n      <td>0</td>\n      <td>9.405293</td>\n    </tr>\n    <tr>\n      <th>21</th>\n      <td>0</td>\n      <td>10.825147</td>\n    </tr>\n    <tr>\n      <th>22</th>\n      <td>3</td>\n      <td>20.221820</td>\n    </tr>\n    <tr>\n      <th>23</th>\n      <td>3</td>\n      <td>14.829224</td>\n    </tr>\n    <tr>\n      <th>24</th>\n      <td>3</td>\n      <td>19.005137</td>\n    </tr>\n    <tr>\n      <th>25</th>\n      <td>0</td>\n      <td>8.933129</td>\n    </tr>\n    <tr>\n      <th>26</th>\n      <td>2</td>\n      <td>11.011974</td>\n    </tr>\n    <tr>\n      <th>27</th>\n      <td>2</td>\n      <td>5.079274</td>\n    </tr>\n    <tr>\n      <th>28</th>\n      <td>2</td>\n      <td>28.597412</td>\n    </tr>\n    <tr>\n      <th>29</th>\n      <td>3</td>\n      <td>3.990935</td>\n    </tr>\n  </tbody>\n</table>\n</div>"
     },
     "metadata": {},
     "execution_count": 38
    }
   ],
   "source": [
    "student_log"
   ]
  },
  {
   "source": [
    "## Data Clean\n",
    "\n",
    "Now that we have the data, we should get it in the proper order. I am going to sort by `student_id` then by `timestamp`. Then we can calcualte how long each student was in class."
   ],
   "cell_type": "markdown",
   "metadata": {}
  },
  {
   "cell_type": "code",
   "execution_count": 40,
   "metadata": {},
   "outputs": [
    {
     "output_type": "execute_result",
     "data": {
      "text/plain": [
       "   student_id  timestamp\n",
       "16          0   3.655195\n",
       "25          0   8.933129\n",
       "20          0   9.405293\n",
       "15          0   9.946995\n",
       "21          0  10.825147\n",
       "4           0  20.329282\n",
       "10          1   9.715836\n",
       "1           1  10.067449\n",
       "6           1  10.765858\n",
       "9           1  11.399453\n",
       "13          1  13.187127\n",
       "7           1  17.504872\n",
       "17          1  25.442746\n",
       "5           1  27.197078\n",
       "27          2   5.079274\n",
       "26          2  11.011974\n",
       "0           2  20.302406\n",
       "18          2  22.049181\n",
       "2           2  24.856066\n",
       "8           2  25.197883\n",
       "28          2  28.597412\n",
       "14          2  32.548229\n",
       "29          3   3.990935\n",
       "11          3   8.328094\n",
       "23          3  14.829224\n",
       "24          3  19.005137\n",
       "22          3  20.221820\n",
       "12          3  20.465719\n",
       "3           3  21.860119\n",
       "19          3  36.654638"
      ],
      "text/html": "<div>\n<style scoped>\n    .dataframe tbody tr th:only-of-type {\n        vertical-align: middle;\n    }\n\n    .dataframe tbody tr th {\n        vertical-align: top;\n    }\n\n    .dataframe thead th {\n        text-align: right;\n    }\n</style>\n<table border=\"1\" class=\"dataframe\">\n  <thead>\n    <tr style=\"text-align: right;\">\n      <th></th>\n      <th>student_id</th>\n      <th>timestamp</th>\n    </tr>\n  </thead>\n  <tbody>\n    <tr>\n      <th>16</th>\n      <td>0</td>\n      <td>3.655195</td>\n    </tr>\n    <tr>\n      <th>25</th>\n      <td>0</td>\n      <td>8.933129</td>\n    </tr>\n    <tr>\n      <th>20</th>\n      <td>0</td>\n      <td>9.405293</td>\n    </tr>\n    <tr>\n      <th>15</th>\n      <td>0</td>\n      <td>9.946995</td>\n    </tr>\n    <tr>\n      <th>21</th>\n      <td>0</td>\n      <td>10.825147</td>\n    </tr>\n    <tr>\n      <th>4</th>\n      <td>0</td>\n      <td>20.329282</td>\n    </tr>\n    <tr>\n      <th>10</th>\n      <td>1</td>\n      <td>9.715836</td>\n    </tr>\n    <tr>\n      <th>1</th>\n      <td>1</td>\n      <td>10.067449</td>\n    </tr>\n    <tr>\n      <th>6</th>\n      <td>1</td>\n      <td>10.765858</td>\n    </tr>\n    <tr>\n      <th>9</th>\n      <td>1</td>\n      <td>11.399453</td>\n    </tr>\n    <tr>\n      <th>13</th>\n      <td>1</td>\n      <td>13.187127</td>\n    </tr>\n    <tr>\n      <th>7</th>\n      <td>1</td>\n      <td>17.504872</td>\n    </tr>\n    <tr>\n      <th>17</th>\n      <td>1</td>\n      <td>25.442746</td>\n    </tr>\n    <tr>\n      <th>5</th>\n      <td>1</td>\n      <td>27.197078</td>\n    </tr>\n    <tr>\n      <th>27</th>\n      <td>2</td>\n      <td>5.079274</td>\n    </tr>\n    <tr>\n      <th>26</th>\n      <td>2</td>\n      <td>11.011974</td>\n    </tr>\n    <tr>\n      <th>0</th>\n      <td>2</td>\n      <td>20.302406</td>\n    </tr>\n    <tr>\n      <th>18</th>\n      <td>2</td>\n      <td>22.049181</td>\n    </tr>\n    <tr>\n      <th>2</th>\n      <td>2</td>\n      <td>24.856066</td>\n    </tr>\n    <tr>\n      <th>8</th>\n      <td>2</td>\n      <td>25.197883</td>\n    </tr>\n    <tr>\n      <th>28</th>\n      <td>2</td>\n      <td>28.597412</td>\n    </tr>\n    <tr>\n      <th>14</th>\n      <td>2</td>\n      <td>32.548229</td>\n    </tr>\n    <tr>\n      <th>29</th>\n      <td>3</td>\n      <td>3.990935</td>\n    </tr>\n    <tr>\n      <th>11</th>\n      <td>3</td>\n      <td>8.328094</td>\n    </tr>\n    <tr>\n      <th>23</th>\n      <td>3</td>\n      <td>14.829224</td>\n    </tr>\n    <tr>\n      <th>24</th>\n      <td>3</td>\n      <td>19.005137</td>\n    </tr>\n    <tr>\n      <th>22</th>\n      <td>3</td>\n      <td>20.221820</td>\n    </tr>\n    <tr>\n      <th>12</th>\n      <td>3</td>\n      <td>20.465719</td>\n    </tr>\n    <tr>\n      <th>3</th>\n      <td>3</td>\n      <td>21.860119</td>\n    </tr>\n    <tr>\n      <th>19</th>\n      <td>3</td>\n      <td>36.654638</td>\n    </tr>\n  </tbody>\n</table>\n</div>"
     },
     "metadata": {},
     "execution_count": 40
    }
   ],
   "source": [
    "student_log = student_log.sort_values(['student_id', 'timestamp'])\n",
    "student_log"
   ]
  },
  {
   "source": [
    "The index is out of order, but that is OK. You can reset the index if needed but we are going to ignore it for now."
   ],
   "cell_type": "markdown",
   "metadata": {}
  },
  {
   "source": [
    "## Aggrigate the data\n",
    "\n",
    "Now we can see how to figure out how long each student was in class for. We need to diff the rows so that we find out how long each student was clocked in for each session."
   ],
   "cell_type": "markdown",
   "metadata": {}
  },
  {
   "cell_type": "code",
   "execution_count": 43,
   "metadata": {},
   "outputs": [
    {
     "output_type": "execute_result",
     "data": {
      "text/plain": [
       "   student_id  timestamp\n",
       "16        NaN        NaN\n",
       "25          0   5.277934\n",
       "20          0   0.472164\n",
       "15          0   0.541702\n",
       "21          0   0.878151\n",
       "4           0   9.504136\n",
       "10          1 -10.613446\n",
       "1           0   0.351613\n",
       "6           0   0.698409\n",
       "9           0   0.633594"
      ],
      "text/html": "<div>\n<style scoped>\n    .dataframe tbody tr th:only-of-type {\n        vertical-align: middle;\n    }\n\n    .dataframe tbody tr th {\n        vertical-align: top;\n    }\n\n    .dataframe thead th {\n        text-align: right;\n    }\n</style>\n<table border=\"1\" class=\"dataframe\">\n  <thead>\n    <tr style=\"text-align: right;\">\n      <th></th>\n      <th>student_id</th>\n      <th>timestamp</th>\n    </tr>\n  </thead>\n  <tbody>\n    <tr>\n      <th>16</th>\n      <td>NaN</td>\n      <td>NaN</td>\n    </tr>\n    <tr>\n      <th>25</th>\n      <td>0</td>\n      <td>5.277934</td>\n    </tr>\n    <tr>\n      <th>20</th>\n      <td>0</td>\n      <td>0.472164</td>\n    </tr>\n    <tr>\n      <th>15</th>\n      <td>0</td>\n      <td>0.541702</td>\n    </tr>\n    <tr>\n      <th>21</th>\n      <td>0</td>\n      <td>0.878151</td>\n    </tr>\n    <tr>\n      <th>4</th>\n      <td>0</td>\n      <td>9.504136</td>\n    </tr>\n    <tr>\n      <th>10</th>\n      <td>1</td>\n      <td>-10.613446</td>\n    </tr>\n    <tr>\n      <th>1</th>\n      <td>0</td>\n      <td>0.351613</td>\n    </tr>\n    <tr>\n      <th>6</th>\n      <td>0</td>\n      <td>0.698409</td>\n    </tr>\n    <tr>\n      <th>9</th>\n      <td>0</td>\n      <td>0.633594</td>\n    </tr>\n  </tbody>\n</table>\n</div>"
     },
     "metadata": {},
     "execution_count": 43
    }
   ],
   "source": [
    "student_log.diff().head(10)"
   ]
  },
  {
   "source": [
    "Oops, we have a big jump when we switch students. We don't really want to do this, nor do we want to diff the student ID."
   ],
   "cell_type": "markdown",
   "metadata": {}
  },
  {
   "cell_type": "code",
   "execution_count": 54,
   "metadata": {},
   "outputs": [
    {
     "output_type": "execute_result",
     "data": {
      "text/plain": [
       "             timestamp       diff\n",
       "student_id                       \n",
       "0            63.095041  16.674087\n",
       "1           125.280420  17.481242\n",
       "2           169.642426  27.468956\n",
       "3           145.355685  32.663703"
      ],
      "text/html": "<div>\n<style scoped>\n    .dataframe tbody tr th:only-of-type {\n        vertical-align: middle;\n    }\n\n    .dataframe tbody tr th {\n        vertical-align: top;\n    }\n\n    .dataframe thead th {\n        text-align: right;\n    }\n</style>\n<table border=\"1\" class=\"dataframe\">\n  <thead>\n    <tr style=\"text-align: right;\">\n      <th></th>\n      <th>timestamp</th>\n      <th>diff</th>\n    </tr>\n    <tr>\n      <th>student_id</th>\n      <th></th>\n      <th></th>\n    </tr>\n  </thead>\n  <tbody>\n    <tr>\n      <th>0</th>\n      <td>63.095041</td>\n      <td>16.674087</td>\n    </tr>\n    <tr>\n      <th>1</th>\n      <td>125.280420</td>\n      <td>17.481242</td>\n    </tr>\n    <tr>\n      <th>2</th>\n      <td>169.642426</td>\n      <td>27.468956</td>\n    </tr>\n    <tr>\n      <th>3</th>\n      <td>145.355685</td>\n      <td>32.663703</td>\n    </tr>\n  </tbody>\n</table>\n</div>"
     },
     "metadata": {},
     "execution_count": 54
    }
   ],
   "source": [
    "student_log['diff'] = student_log.groupby('student_id').diff(periods=1)\n",
    "student_log.groupby('student_id').sum('diff')"
   ]
  },
  {
   "cell_type": "code",
   "execution_count": 55,
   "metadata": {},
   "outputs": [
    {
     "output_type": "execute_result",
     "data": {
      "text/plain": [
       "student_id\n",
       "0    16.674087\n",
       "1    17.481242\n",
       "2    27.468956\n",
       "3    32.663703\n",
       "Name: diff, dtype: float64"
      ]
     },
     "metadata": {},
     "execution_count": 55
    }
   ],
   "source": [
    "# or simply\n",
    "student_log.groupby('student_id').sum('diff')['diff']"
   ]
  },
  {
   "source": [
    "## Conclusion\n",
    "\n",
    "we have used pandas functions to calculate how many minutes each student was in class. We can now see who we should mark as absent. Thanks for reading and let me know if you have any comments!"
   ],
   "cell_type": "markdown",
   "metadata": {}
  }
 ],
 "metadata": {
  "kernelspec": {
   "display_name": "Python 3",
   "env": {},
   "interrupt_mode": "signal",
   "language": "python",
   "name": "python3"
  },
  "nikola": {
   "category": "",
   "date": "2021-01-11 21:29:37 UTC-08:00",
   "description": "",
   "link": "",
   "slug": "pandas-row-offsets",
   "tags": "",
   "title": "Pandas Row Offsets",
   "type": "text"
  }
 },
 "nbformat": 4,
 "nbformat_minor": 4
}