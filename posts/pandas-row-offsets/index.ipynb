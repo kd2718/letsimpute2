{
 "cells": [
  {
   "cell_type": "markdown",
   "metadata": {},
   "source": [
    "## Intro\n",
    "\n",
    "My friend is learning how to program with pandas. Durring the pandemic, he runs classes online and the output is in and out times for the students. Some have connection issues that make them clock in and out a lot, but they are still in class most of the time. Other students skip class altogether. Can we use pandas to figure out how long each student was in class?\n"
   ]
  },
  {
   "cell_type": "code",
   "execution_count": 1,
   "metadata": {},
   "outputs": [],
   "source": [
    "import pandas as pd\n",
    "import numpy as np"
   ]
  },
  {
   "source": [
    "## Setup\n",
    "First we are going to generate the data. If you are just learning pandas and what I am doing below looks a little intence, don't worry about it. Basically, we are creating 4 students with random in/out times. Then we shuffle the order so that the times and IDS need to be sorted later."
   ],
   "cell_type": "markdown",
   "metadata": {}
  },
  {
   "cell_type": "code",
   "execution_count": 2,
   "metadata": {},
   "outputs": [],
   "source": [
    "student_log = pd.DataFrame(columns=['student_id', 'timestamp'])\n",
    "\n",
    "for i in range(4):\n",
    "    num_pairs = np.random.randint(low=1, high=6)*2\n",
    "    inout = np.arange(num_pairs, dtype=np.float)\n",
    "    inout += np.random.uniform(0,30,num_pairs)\n",
    "    inout.sort()\n",
    "    student_log = student_log.append(pd.DataFrame({'student_id': i, 'timestamp': inout}), ignore_index=True)\n",
    "\n",
    "student_log = student_log.sample(frac=1.0).reset_index(drop=True)"
   ]
  },
  {
   "source": [
    "<!-- TEASER_END -->"
   ],
   "cell_type": "markdown",
   "metadata": {}
  },
  {
   "cell_type": "code",
   "execution_count": 3,
   "metadata": {},
   "outputs": [
    {
     "output_type": "execute_result",
     "data": {
      "text/plain": [
       "   student_id  timestamp\n",
       "0           0  16.304589\n",
       "1           2  29.953800\n",
       "2           2  17.304851\n",
       "3           1  25.151845\n",
       "4           0  19.970583\n",
       "5           0   9.599590\n",
       "6           0  28.629028\n",
       "7           2  16.248891\n",
       "8           2   9.836785\n",
       "9           2  14.812535\n",
       "10          2  13.742524\n",
       "11          1  25.736422\n",
       "12          2  20.894870\n",
       "13          0  13.332287\n",
       "14          2  33.234914\n",
       "15          0  18.955793\n",
       "16          2  20.544971\n",
       "17          3  23.922631\n",
       "18          2  29.027783\n",
       "19          3  12.113769"
      ],
      "text/html": "<div>\n<style scoped>\n    .dataframe tbody tr th:only-of-type {\n        vertical-align: middle;\n    }\n\n    .dataframe tbody tr th {\n        vertical-align: top;\n    }\n\n    .dataframe thead th {\n        text-align: right;\n    }\n</style>\n<table border=\"1\" class=\"dataframe\">\n  <thead>\n    <tr style=\"text-align: right;\">\n      <th></th>\n      <th>student_id</th>\n      <th>timestamp</th>\n    </tr>\n  </thead>\n  <tbody>\n    <tr>\n      <th>0</th>\n      <td>0</td>\n      <td>16.304589</td>\n    </tr>\n    <tr>\n      <th>1</th>\n      <td>2</td>\n      <td>29.953800</td>\n    </tr>\n    <tr>\n      <th>2</th>\n      <td>2</td>\n      <td>17.304851</td>\n    </tr>\n    <tr>\n      <th>3</th>\n      <td>1</td>\n      <td>25.151845</td>\n    </tr>\n    <tr>\n      <th>4</th>\n      <td>0</td>\n      <td>19.970583</td>\n    </tr>\n    <tr>\n      <th>5</th>\n      <td>0</td>\n      <td>9.599590</td>\n    </tr>\n    <tr>\n      <th>6</th>\n      <td>0</td>\n      <td>28.629028</td>\n    </tr>\n    <tr>\n      <th>7</th>\n      <td>2</td>\n      <td>16.248891</td>\n    </tr>\n    <tr>\n      <th>8</th>\n      <td>2</td>\n      <td>9.836785</td>\n    </tr>\n    <tr>\n      <th>9</th>\n      <td>2</td>\n      <td>14.812535</td>\n    </tr>\n    <tr>\n      <th>10</th>\n      <td>2</td>\n      <td>13.742524</td>\n    </tr>\n    <tr>\n      <th>11</th>\n      <td>1</td>\n      <td>25.736422</td>\n    </tr>\n    <tr>\n      <th>12</th>\n      <td>2</td>\n      <td>20.894870</td>\n    </tr>\n    <tr>\n      <th>13</th>\n      <td>0</td>\n      <td>13.332287</td>\n    </tr>\n    <tr>\n      <th>14</th>\n      <td>2</td>\n      <td>33.234914</td>\n    </tr>\n    <tr>\n      <th>15</th>\n      <td>0</td>\n      <td>18.955793</td>\n    </tr>\n    <tr>\n      <th>16</th>\n      <td>2</td>\n      <td>20.544971</td>\n    </tr>\n    <tr>\n      <th>17</th>\n      <td>3</td>\n      <td>23.922631</td>\n    </tr>\n    <tr>\n      <th>18</th>\n      <td>2</td>\n      <td>29.027783</td>\n    </tr>\n    <tr>\n      <th>19</th>\n      <td>3</td>\n      <td>12.113769</td>\n    </tr>\n  </tbody>\n</table>\n</div>"
     },
     "metadata": {},
     "execution_count": 3
    }
   ],
   "source": [
    "student_log"
   ]
  },
  {
   "source": [
    "## Data Clean\n",
    "\n",
    "Now that we have the data, we should get it in the proper order. I am going to sort by `student_id` then by `timestamp`. Then we can calcualte how long each student was in class."
   ],
   "cell_type": "markdown",
   "metadata": {}
  },
  {
   "cell_type": "code",
   "execution_count": 4,
   "metadata": {},
   "outputs": [
    {
     "output_type": "execute_result",
     "data": {
      "text/plain": [
       "   student_id  timestamp\n",
       "5           0   9.599590\n",
       "13          0  13.332287\n",
       "0           0  16.304589\n",
       "15          0  18.955793\n",
       "4           0  19.970583\n",
       "6           0  28.629028\n",
       "3           1  25.151845\n",
       "11          1  25.736422\n",
       "8           2   9.836785\n",
       "10          2  13.742524\n",
       "9           2  14.812535\n",
       "7           2  16.248891\n",
       "2           2  17.304851\n",
       "16          2  20.544971\n",
       "12          2  20.894870\n",
       "18          2  29.027783\n",
       "1           2  29.953800\n",
       "14          2  33.234914\n",
       "19          3  12.113769\n",
       "17          3  23.922631"
      ],
      "text/html": "<div>\n<style scoped>\n    .dataframe tbody tr th:only-of-type {\n        vertical-align: middle;\n    }\n\n    .dataframe tbody tr th {\n        vertical-align: top;\n    }\n\n    .dataframe thead th {\n        text-align: right;\n    }\n</style>\n<table border=\"1\" class=\"dataframe\">\n  <thead>\n    <tr style=\"text-align: right;\">\n      <th></th>\n      <th>student_id</th>\n      <th>timestamp</th>\n    </tr>\n  </thead>\n  <tbody>\n    <tr>\n      <th>5</th>\n      <td>0</td>\n      <td>9.599590</td>\n    </tr>\n    <tr>\n      <th>13</th>\n      <td>0</td>\n      <td>13.332287</td>\n    </tr>\n    <tr>\n      <th>0</th>\n      <td>0</td>\n      <td>16.304589</td>\n    </tr>\n    <tr>\n      <th>15</th>\n      <td>0</td>\n      <td>18.955793</td>\n    </tr>\n    <tr>\n      <th>4</th>\n      <td>0</td>\n      <td>19.970583</td>\n    </tr>\n    <tr>\n      <th>6</th>\n      <td>0</td>\n      <td>28.629028</td>\n    </tr>\n    <tr>\n      <th>3</th>\n      <td>1</td>\n      <td>25.151845</td>\n    </tr>\n    <tr>\n      <th>11</th>\n      <td>1</td>\n      <td>25.736422</td>\n    </tr>\n    <tr>\n      <th>8</th>\n      <td>2</td>\n      <td>9.836785</td>\n    </tr>\n    <tr>\n      <th>10</th>\n      <td>2</td>\n      <td>13.742524</td>\n    </tr>\n    <tr>\n      <th>9</th>\n      <td>2</td>\n      <td>14.812535</td>\n    </tr>\n    <tr>\n      <th>7</th>\n      <td>2</td>\n      <td>16.248891</td>\n    </tr>\n    <tr>\n      <th>2</th>\n      <td>2</td>\n      <td>17.304851</td>\n    </tr>\n    <tr>\n      <th>16</th>\n      <td>2</td>\n      <td>20.544971</td>\n    </tr>\n    <tr>\n      <th>12</th>\n      <td>2</td>\n      <td>20.894870</td>\n    </tr>\n    <tr>\n      <th>18</th>\n      <td>2</td>\n      <td>29.027783</td>\n    </tr>\n    <tr>\n      <th>1</th>\n      <td>2</td>\n      <td>29.953800</td>\n    </tr>\n    <tr>\n      <th>14</th>\n      <td>2</td>\n      <td>33.234914</td>\n    </tr>\n    <tr>\n      <th>19</th>\n      <td>3</td>\n      <td>12.113769</td>\n    </tr>\n    <tr>\n      <th>17</th>\n      <td>3</td>\n      <td>23.922631</td>\n    </tr>\n  </tbody>\n</table>\n</div>"
     },
     "metadata": {},
     "execution_count": 4
    }
   ],
   "source": [
    "student_log = student_log.sort_values(['student_id', 'timestamp'])\n",
    "student_log"
   ]
  },
  {
   "source": [
    "The index is out of order, but that is OK. You can reset the index if needed but we are going to ignore it for now."
   ],
   "cell_type": "markdown",
   "metadata": {}
  },
  {
   "source": [
    "## Aggrigate the data\n",
    "\n",
    "Now we can see how to figure out how long each student was in class for. We need to diff the rows so that we find out how long each student was clocked in for each session."
   ],
   "cell_type": "markdown",
   "metadata": {}
  },
  {
   "cell_type": "code",
   "execution_count": 5,
   "metadata": {},
   "outputs": [
    {
     "output_type": "execute_result",
     "data": {
      "text/plain": [
       "   student_id  timestamp\n",
       "5         NaN        NaN\n",
       "13          0   3.732698\n",
       "0           0   2.972302\n",
       "15          0   2.651204\n",
       "4           0   1.014790\n",
       "6           0   8.658445\n",
       "3           1  -3.477183\n",
       "11          0   0.584577\n",
       "8           1 -15.899637\n",
       "10          0   3.905739"
      ],
      "text/html": "<div>\n<style scoped>\n    .dataframe tbody tr th:only-of-type {\n        vertical-align: middle;\n    }\n\n    .dataframe tbody tr th {\n        vertical-align: top;\n    }\n\n    .dataframe thead th {\n        text-align: right;\n    }\n</style>\n<table border=\"1\" class=\"dataframe\">\n  <thead>\n    <tr style=\"text-align: right;\">\n      <th></th>\n      <th>student_id</th>\n      <th>timestamp</th>\n    </tr>\n  </thead>\n  <tbody>\n    <tr>\n      <th>5</th>\n      <td>NaN</td>\n      <td>NaN</td>\n    </tr>\n    <tr>\n      <th>13</th>\n      <td>0</td>\n      <td>3.732698</td>\n    </tr>\n    <tr>\n      <th>0</th>\n      <td>0</td>\n      <td>2.972302</td>\n    </tr>\n    <tr>\n      <th>15</th>\n      <td>0</td>\n      <td>2.651204</td>\n    </tr>\n    <tr>\n      <th>4</th>\n      <td>0</td>\n      <td>1.014790</td>\n    </tr>\n    <tr>\n      <th>6</th>\n      <td>0</td>\n      <td>8.658445</td>\n    </tr>\n    <tr>\n      <th>3</th>\n      <td>1</td>\n      <td>-3.477183</td>\n    </tr>\n    <tr>\n      <th>11</th>\n      <td>0</td>\n      <td>0.584577</td>\n    </tr>\n    <tr>\n      <th>8</th>\n      <td>1</td>\n      <td>-15.899637</td>\n    </tr>\n    <tr>\n      <th>10</th>\n      <td>0</td>\n      <td>3.905739</td>\n    </tr>\n  </tbody>\n</table>\n</div>"
     },
     "metadata": {},
     "execution_count": 5
    }
   ],
   "source": [
    "student_log.diff().head(10)"
   ]
  },
  {
   "source": [
    "Oops, we have a big jump when we switch students. We don't really want to do this, nor do we want to diff the student ID."
   ],
   "cell_type": "markdown",
   "metadata": {}
  },
  {
   "cell_type": "code",
   "execution_count": 6,
   "metadata": {},
   "outputs": [
    {
     "output_type": "execute_result",
     "data": {
      "text/plain": [
       "             timestamp       diff\n",
       "student_id                       \n",
       "0           106.791871  19.029438\n",
       "1            50.888266   0.584577\n",
       "2           205.601924  23.398129\n",
       "3            36.036400  11.808863"
      ],
      "text/html": "<div>\n<style scoped>\n    .dataframe tbody tr th:only-of-type {\n        vertical-align: middle;\n    }\n\n    .dataframe tbody tr th {\n        vertical-align: top;\n    }\n\n    .dataframe thead th {\n        text-align: right;\n    }\n</style>\n<table border=\"1\" class=\"dataframe\">\n  <thead>\n    <tr style=\"text-align: right;\">\n      <th></th>\n      <th>timestamp</th>\n      <th>diff</th>\n    </tr>\n    <tr>\n      <th>student_id</th>\n      <th></th>\n      <th></th>\n    </tr>\n  </thead>\n  <tbody>\n    <tr>\n      <th>0</th>\n      <td>106.791871</td>\n      <td>19.029438</td>\n    </tr>\n    <tr>\n      <th>1</th>\n      <td>50.888266</td>\n      <td>0.584577</td>\n    </tr>\n    <tr>\n      <th>2</th>\n      <td>205.601924</td>\n      <td>23.398129</td>\n    </tr>\n    <tr>\n      <th>3</th>\n      <td>36.036400</td>\n      <td>11.808863</td>\n    </tr>\n  </tbody>\n</table>\n</div>"
     },
     "metadata": {},
     "execution_count": 6
    }
   ],
   "source": [
    "student_log['diff'] = student_log.groupby('student_id').diff(periods=1)\n",
    "student_log.groupby('student_id').sum('diff')"
   ]
  },
  {
   "source": [
    "So what we are doing here is `grouping by` the `student_id`, then summing. This is like saying:\n",
    "\n",
    "> For each student, sum the differences.\n",
    "\n",
    "However, this is still wrong! We are summing All rows, when we should be summing every other row! This may be easier if we add `in` and `out` tags.\n",
    "\n",
    "First we need to make a new column called `action` and we will give every row a value of `In`"
   ],
   "cell_type": "markdown",
   "metadata": {}
  },
  {
   "cell_type": "code",
   "execution_count": 7,
   "metadata": {},
   "outputs": [],
   "source": [
    "# Make new column called action, assign every value 'In'\n",
    "student_log['action'] = 'In'\n",
    "\n"
   ]
  },
  {
   "source": [
    "Next we need to give every other row a value `Out`. I an going to use `.iloc` for this setp. `iloc` goes through the dataframe from top to bottom.\n",
    "The slice command I give tells pandas to start at row 2 (id as 1 because 0 index) and skip every other row. "
   ],
   "cell_type": "markdown",
   "metadata": {}
  },
  {
   "cell_type": "code",
   "execution_count": 8,
   "metadata": {},
   "outputs": [
    {
     "output_type": "execute_result",
     "data": {
      "text/plain": [
       "   student_id  timestamp       diff action\n",
       "5           0   9.599590        NaN     In\n",
       "13          0  13.332287   3.732698    Out\n",
       "0           0  16.304589   2.972302     In\n",
       "15          0  18.955793   2.651204    Out\n",
       "4           0  19.970583   1.014790     In\n",
       "6           0  28.629028   8.658445    Out\n",
       "3           1  25.151845        NaN     In\n",
       "11          1  25.736422   0.584577    Out\n",
       "8           2   9.836785        NaN     In\n",
       "10          2  13.742524   3.905739    Out\n",
       "9           2  14.812535   1.070011     In\n",
       "7           2  16.248891   1.436355    Out\n",
       "2           2  17.304851   1.055961     In\n",
       "16          2  20.544971   3.240120    Out\n",
       "12          2  20.894870   0.349898     In\n",
       "18          2  29.027783   8.132913    Out\n",
       "1           2  29.953800   0.926017     In\n",
       "14          2  33.234914   3.281114    Out\n",
       "19          3  12.113769        NaN     In\n",
       "17          3  23.922631  11.808863    Out"
      ],
      "text/html": "<div>\n<style scoped>\n    .dataframe tbody tr th:only-of-type {\n        vertical-align: middle;\n    }\n\n    .dataframe tbody tr th {\n        vertical-align: top;\n    }\n\n    .dataframe thead th {\n        text-align: right;\n    }\n</style>\n<table border=\"1\" class=\"dataframe\">\n  <thead>\n    <tr style=\"text-align: right;\">\n      <th></th>\n      <th>student_id</th>\n      <th>timestamp</th>\n      <th>diff</th>\n      <th>action</th>\n    </tr>\n  </thead>\n  <tbody>\n    <tr>\n      <th>5</th>\n      <td>0</td>\n      <td>9.599590</td>\n      <td>NaN</td>\n      <td>In</td>\n    </tr>\n    <tr>\n      <th>13</th>\n      <td>0</td>\n      <td>13.332287</td>\n      <td>3.732698</td>\n      <td>Out</td>\n    </tr>\n    <tr>\n      <th>0</th>\n      <td>0</td>\n      <td>16.304589</td>\n      <td>2.972302</td>\n      <td>In</td>\n    </tr>\n    <tr>\n      <th>15</th>\n      <td>0</td>\n      <td>18.955793</td>\n      <td>2.651204</td>\n      <td>Out</td>\n    </tr>\n    <tr>\n      <th>4</th>\n      <td>0</td>\n      <td>19.970583</td>\n      <td>1.014790</td>\n      <td>In</td>\n    </tr>\n    <tr>\n      <th>6</th>\n      <td>0</td>\n      <td>28.629028</td>\n      <td>8.658445</td>\n      <td>Out</td>\n    </tr>\n    <tr>\n      <th>3</th>\n      <td>1</td>\n      <td>25.151845</td>\n      <td>NaN</td>\n      <td>In</td>\n    </tr>\n    <tr>\n      <th>11</th>\n      <td>1</td>\n      <td>25.736422</td>\n      <td>0.584577</td>\n      <td>Out</td>\n    </tr>\n    <tr>\n      <th>8</th>\n      <td>2</td>\n      <td>9.836785</td>\n      <td>NaN</td>\n      <td>In</td>\n    </tr>\n    <tr>\n      <th>10</th>\n      <td>2</td>\n      <td>13.742524</td>\n      <td>3.905739</td>\n      <td>Out</td>\n    </tr>\n    <tr>\n      <th>9</th>\n      <td>2</td>\n      <td>14.812535</td>\n      <td>1.070011</td>\n      <td>In</td>\n    </tr>\n    <tr>\n      <th>7</th>\n      <td>2</td>\n      <td>16.248891</td>\n      <td>1.436355</td>\n      <td>Out</td>\n    </tr>\n    <tr>\n      <th>2</th>\n      <td>2</td>\n      <td>17.304851</td>\n      <td>1.055961</td>\n      <td>In</td>\n    </tr>\n    <tr>\n      <th>16</th>\n      <td>2</td>\n      <td>20.544971</td>\n      <td>3.240120</td>\n      <td>Out</td>\n    </tr>\n    <tr>\n      <th>12</th>\n      <td>2</td>\n      <td>20.894870</td>\n      <td>0.349898</td>\n      <td>In</td>\n    </tr>\n    <tr>\n      <th>18</th>\n      <td>2</td>\n      <td>29.027783</td>\n      <td>8.132913</td>\n      <td>Out</td>\n    </tr>\n    <tr>\n      <th>1</th>\n      <td>2</td>\n      <td>29.953800</td>\n      <td>0.926017</td>\n      <td>In</td>\n    </tr>\n    <tr>\n      <th>14</th>\n      <td>2</td>\n      <td>33.234914</td>\n      <td>3.281114</td>\n      <td>Out</td>\n    </tr>\n    <tr>\n      <th>19</th>\n      <td>3</td>\n      <td>12.113769</td>\n      <td>NaN</td>\n      <td>In</td>\n    </tr>\n    <tr>\n      <th>17</th>\n      <td>3</td>\n      <td>23.922631</td>\n      <td>11.808863</td>\n      <td>Out</td>\n    </tr>\n  </tbody>\n</table>\n</div>"
     },
     "metadata": {},
     "execution_count": 8
    }
   ],
   "source": [
    "# Switch every other column to say 'Out'. \n",
    "# iloc ignores indexes and goes through the dataframe in order from top to bottom.\n",
    "student_log.iloc[1::2,-1] = 'Out'\n",
    "\n",
    "# print results\n",
    "student_log"
   ]
  },
  {
   "source": [
    "So the sum of the time in class should be the sum of the `Out` rows for each students. To get this we can either use `iloc` again, or we can use filtering."
   ],
   "cell_type": "markdown",
   "metadata": {}
  },
  {
   "cell_type": "code",
   "execution_count": 9,
   "metadata": {},
   "outputs": [
    {
     "output_type": "execute_result",
     "data": {
      "text/plain": [
       "             timestamp       diff\n",
       "student_id                       \n",
       "0            60.917109  15.042346\n",
       "1            25.736422   0.584577\n",
       "2           112.799083  19.996242\n",
       "3            23.922631  11.808863"
      ],
      "text/html": "<div>\n<style scoped>\n    .dataframe tbody tr th:only-of-type {\n        vertical-align: middle;\n    }\n\n    .dataframe tbody tr th {\n        vertical-align: top;\n    }\n\n    .dataframe thead th {\n        text-align: right;\n    }\n</style>\n<table border=\"1\" class=\"dataframe\">\n  <thead>\n    <tr style=\"text-align: right;\">\n      <th></th>\n      <th>timestamp</th>\n      <th>diff</th>\n    </tr>\n    <tr>\n      <th>student_id</th>\n      <th></th>\n      <th></th>\n    </tr>\n  </thead>\n  <tbody>\n    <tr>\n      <th>0</th>\n      <td>60.917109</td>\n      <td>15.042346</td>\n    </tr>\n    <tr>\n      <th>1</th>\n      <td>25.736422</td>\n      <td>0.584577</td>\n    </tr>\n    <tr>\n      <th>2</th>\n      <td>112.799083</td>\n      <td>19.996242</td>\n    </tr>\n    <tr>\n      <th>3</th>\n      <td>23.922631</td>\n      <td>11.808863</td>\n    </tr>\n  </tbody>\n</table>\n</div>"
     },
     "metadata": {},
     "execution_count": 9
    }
   ],
   "source": [
    "# filter rows that are Out rows and sum the differences here only\n",
    "student_log[student_log['action'] == 'Out'].groupby('student_id').sum('diff')"
   ]
  },
  {
   "cell_type": "code",
   "execution_count": 10,
   "metadata": {},
   "outputs": [
    {
     "output_type": "execute_result",
     "data": {
      "text/plain": [
       "student_id\n",
       "0    15.042346\n",
       "1     0.584577\n",
       "2    19.996242\n",
       "3    11.808863\n",
       "Name: diff, dtype: float64"
      ]
     },
     "metadata": {},
     "execution_count": 10
    }
   ],
   "source": [
    "# or simply\n",
    "student_log[student_log['action'] == 'Out'].groupby('student_id').sum('diff')['diff']"
   ]
  },
  {
   "source": [
    "Perfect!\n",
    "\n",
    "This is the same as saying:\n",
    "\n",
    "> For each student, sum the difference of the out rows"
   ],
   "cell_type": "markdown",
   "metadata": {}
  },
  {
   "source": [
    "## Conclusion\n",
    "\n",
    "This gives the results we want. We can see who was in class for how long. I have made some assumptions here. That there are always in/out pairs and that there are no double in records caused by funny networking issues. In a future post I might think about addressing these other issues.\n",
    "\n",
    "### Summary\n",
    "we have used pandas functions to calculate how many minutes each student was in class. We can now see who we should mark as absent. Thanks for reading and let me know if you have any comments!"
   ],
   "cell_type": "markdown",
   "metadata": {}
  }
 ],
 "metadata": {
  "kernelspec": {
   "display_name": "Python 3",
   "env": {},
   "interrupt_mode": "signal",
   "language": "python",
   "name": "python3"
  },
  "nikola": {
   "category": "pandas",
   "date": "2021-01-11 21:29:37 UTC-08:00",
   "description": "",
   "link": "",
   "slug": "pandas-row-offsets",
   "tags": "pandas, python",
   "title": "Pandas Row Offsets",
   "type": "text"
  }
 },
 "nbformat": 4,
 "nbformat_minor": 4
}